{
 "cells": [
  {
   "cell_type": "code",
   "execution_count": 12,
   "metadata": {},
   "outputs": [
    {
     "data": {
      "text/html": [
       "<p>To authorize access needed by Earth Engine, open the following\n",
       "        URL in a web browser and follow the instructions:</p>\n",
       "        <p><a href=https://code.earthengine.google.com/client-auth?scopes=https%3A//www.googleapis.com/auth/earthengine%20https%3A//www.googleapis.com/auth/devstorage.full_control&request_id=n2gSNmKTnaoJ4wlSoeBN14YLVELaVaM-2LBEsr6hYF4&tc=xPXjGk9VlTp5OOPppBSyaDp3OqXzcPudi4XSRn8m7qE&cc=AJEzIT79A29X7pRISADGPNo6baIR6VRi9DKQk57kd_U>https://code.earthengine.google.com/client-auth?scopes=https%3A//www.googleapis.com/auth/earthengine%20https%3A//www.googleapis.com/auth/devstorage.full_control&request_id=n2gSNmKTnaoJ4wlSoeBN14YLVELaVaM-2LBEsr6hYF4&tc=xPXjGk9VlTp5OOPppBSyaDp3OqXzcPudi4XSRn8m7qE&cc=AJEzIT79A29X7pRISADGPNo6baIR6VRi9DKQk57kd_U</a></p>\n",
       "        <p>The authorization workflow will generate a code, which you should paste in the box below.</p>\n",
       "        "
      ],
      "text/plain": [
       "<IPython.core.display.HTML object>"
      ]
     },
     "metadata": {},
     "output_type": "display_data"
    },
    {
     "ename": "KeyError",
     "evalue": "'client_id'",
     "output_type": "error",
     "traceback": [
      "\u001b[1;31m---------------------------------------------------------------------------\u001b[0m",
      "\u001b[1;31mKeyError\u001b[0m                                  Traceback (most recent call last)",
      "Cell \u001b[1;32mIn [12], line 3\u001b[0m\n\u001b[0;32m      1\u001b[0m \u001b[39mimport\u001b[39;00m \u001b[39mee\u001b[39;00m\n\u001b[0;32m      2\u001b[0m \u001b[39mimport\u001b[39;00m \u001b[39mprivate\u001b[39;00m\n\u001b[1;32m----> 3\u001b[0m ee\u001b[39m.\u001b[39;49mAuthenticate()\n\u001b[0;32m      5\u001b[0m \u001b[39m# \u001b[39;00m\n",
      "File \u001b[1;32mc:\\Users\\David\\Documents\\git\\durhack-2022-plane-view\\.env\\lib\\site-packages\\ee\\__init__.py:104\u001b[0m, in \u001b[0;36mAuthenticate\u001b[1;34m(authorization_code, quiet, code_verifier, auth_mode, scopes)\u001b[0m\n\u001b[0;32m     78\u001b[0m \u001b[39mdef\u001b[39;00m \u001b[39mAuthenticate\u001b[39m(\n\u001b[0;32m     79\u001b[0m     authorization_code\u001b[39m=\u001b[39m\u001b[39mNone\u001b[39;00m,\n\u001b[0;32m     80\u001b[0m     quiet\u001b[39m=\u001b[39m\u001b[39mNone\u001b[39;00m,\n\u001b[0;32m     81\u001b[0m     code_verifier\u001b[39m=\u001b[39m\u001b[39mNone\u001b[39;00m,\n\u001b[0;32m     82\u001b[0m     auth_mode\u001b[39m=\u001b[39m\u001b[39mNone\u001b[39;00m,\n\u001b[0;32m     83\u001b[0m     scopes\u001b[39m=\u001b[39m\u001b[39mNone\u001b[39;00m):\n\u001b[0;32m     84\u001b[0m   \u001b[39m\"\"\"Prompts the user to authorize access to Earth Engine via OAuth2.\u001b[39;00m\n\u001b[0;32m     85\u001b[0m \n\u001b[0;32m     86\u001b[0m \u001b[39m  Args:\u001b[39;00m\n\u001b[1;32m   (...)\u001b[0m\n\u001b[0;32m    102\u001b[0m \u001b[39m     (auth_url, code_verifier) when called with quiet='init_only'\u001b[39;00m\n\u001b[0;32m    103\u001b[0m \u001b[39m  \"\"\"\u001b[39;00m\n\u001b[1;32m--> 104\u001b[0m   \u001b[39mreturn\u001b[39;00m oauth\u001b[39m.\u001b[39;49mauthenticate(authorization_code, quiet, code_verifier, auth_mode,\n\u001b[0;32m    105\u001b[0m                             scopes)\n",
      "File \u001b[1;32mc:\\Users\\David\\Documents\\git\\durhack-2022-plane-view\\.env\\lib\\site-packages\\ee\\oauth.py:400\u001b[0m, in \u001b[0;36mauthenticate\u001b[1;34m(cli_authorization_code, quiet, cli_code_verifier, auth_mode, scopes)\u001b[0m\n\u001b[0;32m    397\u001b[0m \u001b[39mif\u001b[39;00m flow\u001b[39m.\u001b[39mdisplay_instructions(quiet):\n\u001b[0;32m    398\u001b[0m   _open_new_browser(flow\u001b[39m.\u001b[39mauth_url)\n\u001b[1;32m--> 400\u001b[0m flow\u001b[39m.\u001b[39;49msave_code()\n",
      "File \u001b[1;32mc:\\Users\\David\\Documents\\git\\durhack-2022-plane-view\\.env\\lib\\site-packages\\ee\\oauth.py:443\u001b[0m, in \u001b[0;36mFlow.save_code\u001b[1;34m(self, code)\u001b[0m\n\u001b[0;32m    441\u001b[0m   redirect_uri \u001b[39m=\u001b[39m \u001b[39mself\u001b[39m\u001b[39m.\u001b[39mserver\u001b[39m.\u001b[39murl\n\u001b[0;32m    442\u001b[0m   code \u001b[39m=\u001b[39m \u001b[39mself\u001b[39m\u001b[39m.\u001b[39mserver\u001b[39m.\u001b[39mfetch_code()  \u001b[39m# Waits for oauth callback\u001b[39;00m\n\u001b[1;32m--> 443\u001b[0m _obtain_and_write_token(code, \u001b[39mself\u001b[39;49m\u001b[39m.\u001b[39;49mcode_verifier, \u001b[39mself\u001b[39;49m\u001b[39m.\u001b[39;49mscopes, redirect_uri)\n",
      "File \u001b[1;32mc:\\Users\\David\\Documents\\git\\durhack-2022-plane-view\\.env\\lib\\site-packages\\ee\\oauth.py:189\u001b[0m, in \u001b[0;36m_obtain_and_write_token\u001b[1;34m(auth_code, code_verifier, scopes, redirect_uri)\u001b[0m\n\u001b[0;32m    187\u001b[0m   fetch_client \u001b[39m=\u001b[39m request\u001b[39m.\u001b[39mRequest(FETCH_URL, data\u001b[39m=\u001b[39mdata, headers\u001b[39m=\u001b[39mheaders)\n\u001b[0;32m    188\u001b[0m   fetched_info \u001b[39m=\u001b[39m json\u001b[39m.\u001b[39mloads(request\u001b[39m.\u001b[39murlopen(fetch_client)\u001b[39m.\u001b[39mread()\u001b[39m.\u001b[39mdecode())\n\u001b[1;32m--> 189\u001b[0m   client_info \u001b[39m=\u001b[39m {k: fetched_info[k] \u001b[39mfor\u001b[39;00m k \u001b[39min\u001b[39;00m [\u001b[39m'\u001b[39m\u001b[39mclient_id\u001b[39m\u001b[39m'\u001b[39m, \u001b[39m'\u001b[39m\u001b[39mclient_secret\u001b[39m\u001b[39m'\u001b[39m]}\n\u001b[0;32m    190\u001b[0m   scopes \u001b[39m=\u001b[39m fetched_info\u001b[39m.\u001b[39mget(\u001b[39m'\u001b[39m\u001b[39mscopes\u001b[39m\u001b[39m'\u001b[39m) \u001b[39mor\u001b[39;00m scopes\n\u001b[0;32m    191\u001b[0m token \u001b[39m=\u001b[39m request_token(auth_code\u001b[39m.\u001b[39mstrip(), code_verifier, \u001b[39m*\u001b[39m\u001b[39m*\u001b[39mclient_info)\n",
      "File \u001b[1;32mc:\\Users\\David\\Documents\\git\\durhack-2022-plane-view\\.env\\lib\\site-packages\\ee\\oauth.py:189\u001b[0m, in \u001b[0;36m<dictcomp>\u001b[1;34m(.0)\u001b[0m\n\u001b[0;32m    187\u001b[0m   fetch_client \u001b[39m=\u001b[39m request\u001b[39m.\u001b[39mRequest(FETCH_URL, data\u001b[39m=\u001b[39mdata, headers\u001b[39m=\u001b[39mheaders)\n\u001b[0;32m    188\u001b[0m   fetched_info \u001b[39m=\u001b[39m json\u001b[39m.\u001b[39mloads(request\u001b[39m.\u001b[39murlopen(fetch_client)\u001b[39m.\u001b[39mread()\u001b[39m.\u001b[39mdecode())\n\u001b[1;32m--> 189\u001b[0m   client_info \u001b[39m=\u001b[39m {k: fetched_info[k] \u001b[39mfor\u001b[39;00m k \u001b[39min\u001b[39;00m [\u001b[39m'\u001b[39m\u001b[39mclient_id\u001b[39m\u001b[39m'\u001b[39m, \u001b[39m'\u001b[39m\u001b[39mclient_secret\u001b[39m\u001b[39m'\u001b[39m]}\n\u001b[0;32m    190\u001b[0m   scopes \u001b[39m=\u001b[39m fetched_info\u001b[39m.\u001b[39mget(\u001b[39m'\u001b[39m\u001b[39mscopes\u001b[39m\u001b[39m'\u001b[39m) \u001b[39mor\u001b[39;00m scopes\n\u001b[0;32m    191\u001b[0m token \u001b[39m=\u001b[39m request_token(auth_code\u001b[39m.\u001b[39mstrip(), code_verifier, \u001b[39m*\u001b[39m\u001b[39m*\u001b[39mclient_info)\n",
      "\u001b[1;31mKeyError\u001b[0m: 'client_id'"
     ]
    }
   ],
   "source": [
    "import ee\n",
    "import private\n",
    "ee.Authenticate()\n",
    "\n",
    "# "
   ]
  },
  {
   "cell_type": "code",
   "execution_count": null,
   "metadata": {},
   "outputs": [
    {
     "ename": "EEException",
     "evalue": "Google Earth Engine API has not been used in project 272621783927 before or it is disabled. Enable it by visiting https://console.developers.google.com/apis/api/earthengine.googleapis.com/overview?project=272621783927 then retry. If you enabled this API recently, wait a few minutes for the action to propagate to our systems and retry.",
     "output_type": "error",
     "traceback": [
      "\u001b[1;31m---------------------------------------------------------------------------\u001b[0m",
      "\u001b[1;31mHttpError\u001b[0m                                 Traceback (most recent call last)",
      "File \u001b[1;32mc:\\Users\\David\\Documents\\git\\durhack-2022-plane-view\\.env\\lib\\site-packages\\ee\\data.py:328\u001b[0m, in \u001b[0;36m_execute_cloud_call\u001b[1;34m(call, num_retries)\u001b[0m\n\u001b[0;32m    327\u001b[0m \u001b[39mtry\u001b[39;00m:\n\u001b[1;32m--> 328\u001b[0m   \u001b[39mreturn\u001b[39;00m call\u001b[39m.\u001b[39;49mexecute(num_retries\u001b[39m=\u001b[39;49mnum_retries)\n\u001b[0;32m    329\u001b[0m \u001b[39mexcept\u001b[39;00m googleapiclient\u001b[39m.\u001b[39merrors\u001b[39m.\u001b[39mHttpError \u001b[39mas\u001b[39;00m e:\n",
      "File \u001b[1;32mc:\\Users\\David\\Documents\\git\\durhack-2022-plane-view\\.env\\lib\\site-packages\\googleapiclient\\_helpers.py:130\u001b[0m, in \u001b[0;36mpositional.<locals>.positional_decorator.<locals>.positional_wrapper\u001b[1;34m(*args, **kwargs)\u001b[0m\n\u001b[0;32m    129\u001b[0m         logger\u001b[39m.\u001b[39mwarning(message)\n\u001b[1;32m--> 130\u001b[0m \u001b[39mreturn\u001b[39;00m wrapped(\u001b[39m*\u001b[39margs, \u001b[39m*\u001b[39m\u001b[39m*\u001b[39mkwargs)\n",
      "File \u001b[1;32mc:\\Users\\David\\Documents\\git\\durhack-2022-plane-view\\.env\\lib\\site-packages\\googleapiclient\\http.py:938\u001b[0m, in \u001b[0;36mHttpRequest.execute\u001b[1;34m(self, http, num_retries)\u001b[0m\n\u001b[0;32m    937\u001b[0m \u001b[39mif\u001b[39;00m resp\u001b[39m.\u001b[39mstatus \u001b[39m>\u001b[39m\u001b[39m=\u001b[39m \u001b[39m300\u001b[39m:\n\u001b[1;32m--> 938\u001b[0m     \u001b[39mraise\u001b[39;00m HttpError(resp, content, uri\u001b[39m=\u001b[39m\u001b[39mself\u001b[39m\u001b[39m.\u001b[39muri)\n\u001b[0;32m    939\u001b[0m \u001b[39mreturn\u001b[39;00m \u001b[39mself\u001b[39m\u001b[39m.\u001b[39mpostproc(resp, content)\n",
      "\u001b[1;31mHttpError\u001b[0m: <HttpError 403 when requesting https://earthengine.googleapis.com/v1alpha/projects/earthengine-legacy/algorithms?prettyPrint=false&alt=json returned \"Google Earth Engine API has not been used in project 272621783927 before or it is disabled. Enable it by visiting https://console.developers.google.com/apis/api/earthengine.googleapis.com/overview?project=272621783927 then retry. If you enabled this API recently, wait a few minutes for the action to propagate to our systems and retry.\". Details: \"[{'@type': 'type.googleapis.com/google.rpc.Help', 'links': [{'description': 'Google developers console API activation', 'url': 'https://console.developers.google.com/apis/api/earthengine.googleapis.com/overview?project=272621783927'}]}, {'@type': 'type.googleapis.com/google.rpc.ErrorInfo', 'reason': 'SERVICE_DISABLED', 'domain': 'googleapis.com', 'metadata': {'service': 'earthengine.googleapis.com', 'consumer': 'projects/272621783927'}}]\">",
      "\nDuring handling of the above exception, another exception occurred:\n",
      "\u001b[1;31mEEException\u001b[0m                               Traceback (most recent call last)",
      "Cell \u001b[1;32mIn [10], line 2\u001b[0m\n\u001b[0;32m      1\u001b[0m \u001b[39m#Initialize the library.\u001b[39;00m\n\u001b[1;32m----> 2\u001b[0m ee\u001b[39m.\u001b[39;49mInitialize()\n",
      "File \u001b[1;32mc:\\Users\\David\\Documents\\git\\durhack-2022-plane-view\\.env\\lib\\site-packages\\ee\\__init__.py:141\u001b[0m, in \u001b[0;36mInitialize\u001b[1;34m(credentials, opt_url, cloud_api_key, http_transport, project)\u001b[0m\n\u001b[0;32m    132\u001b[0m data\u001b[39m.\u001b[39minitialize(\n\u001b[0;32m    133\u001b[0m     credentials\u001b[39m=\u001b[39mcredentials,\n\u001b[0;32m    134\u001b[0m     api_base_url\u001b[39m=\u001b[39m(opt_url \u001b[39m+\u001b[39m \u001b[39m'\u001b[39m\u001b[39m/api\u001b[39m\u001b[39m'\u001b[39m \u001b[39mif\u001b[39;00m opt_url \u001b[39melse\u001b[39;00m \u001b[39mNone\u001b[39;00m),\n\u001b[1;32m   (...)\u001b[0m\n\u001b[0;32m    138\u001b[0m     project\u001b[39m=\u001b[39mproject,\n\u001b[0;32m    139\u001b[0m     http_transport\u001b[39m=\u001b[39mhttp_transport)\n\u001b[0;32m    140\u001b[0m \u001b[39m# Initialize the dynamically loaded functions on the objects that want them.\u001b[39;00m\n\u001b[1;32m--> 141\u001b[0m ApiFunction\u001b[39m.\u001b[39;49minitialize()\n\u001b[0;32m    142\u001b[0m Element\u001b[39m.\u001b[39minitialize()\n\u001b[0;32m    143\u001b[0m Image\u001b[39m.\u001b[39minitialize()\n",
      "File \u001b[1;32mc:\\Users\\David\\Documents\\git\\durhack-2022-plane-view\\.env\\lib\\site-packages\\ee\\apifunction.py:154\u001b[0m, in \u001b[0;36mApiFunction.initialize\u001b[1;34m(cls)\u001b[0m\n\u001b[0;32m    152\u001b[0m \u001b[39m\"\"\"Initializes the list of signatures from the Earth Engine front-end.\"\"\"\u001b[39;00m\n\u001b[0;32m    153\u001b[0m \u001b[39mif\u001b[39;00m \u001b[39mnot\u001b[39;00m \u001b[39mcls\u001b[39m\u001b[39m.\u001b[39m_api:\n\u001b[1;32m--> 154\u001b[0m   signatures \u001b[39m=\u001b[39m data\u001b[39m.\u001b[39;49mgetAlgorithms()\n\u001b[0;32m    155\u001b[0m   api \u001b[39m=\u001b[39m {}\n\u001b[0;32m    156\u001b[0m   \u001b[39mfor\u001b[39;00m name, sig \u001b[39min\u001b[39;00m signatures\u001b[39m.\u001b[39mitems():\n\u001b[0;32m    157\u001b[0m     \u001b[39m# Strip type parameters.\u001b[39;00m\n",
      "File \u001b[1;32mc:\\Users\\David\\Documents\\git\\durhack-2022-plane-view\\.env\\lib\\site-packages\\ee\\data.py:1090\u001b[0m, in \u001b[0;36mgetAlgorithms\u001b[1;34m()\u001b[0m\n\u001b[0;32m   1085\u001b[0m     \u001b[39mprint\u001b[39m(\n\u001b[0;32m   1086\u001b[0m         \u001b[39m'\u001b[39m\u001b[39m*** Earth Engine ***\u001b[39m\u001b[39m'\u001b[39m,\n\u001b[0;32m   1087\u001b[0m         response[_INIT_MESSAGE_HEADER],\n\u001b[0;32m   1088\u001b[0m         file\u001b[39m=\u001b[39msys\u001b[39m.\u001b[39mstderr)\n\u001b[0;32m   1089\u001b[0m call\u001b[39m.\u001b[39madd_response_callback(inspect)\n\u001b[1;32m-> 1090\u001b[0m \u001b[39mreturn\u001b[39;00m _cloud_api_utils\u001b[39m.\u001b[39mconvert_algorithms(_execute_cloud_call(call))\n",
      "File \u001b[1;32mc:\\Users\\David\\Documents\\git\\durhack-2022-plane-view\\.env\\lib\\site-packages\\ee\\data.py:330\u001b[0m, in \u001b[0;36m_execute_cloud_call\u001b[1;34m(call, num_retries)\u001b[0m\n\u001b[0;32m    328\u001b[0m   \u001b[39mreturn\u001b[39;00m call\u001b[39m.\u001b[39mexecute(num_retries\u001b[39m=\u001b[39mnum_retries)\n\u001b[0;32m    329\u001b[0m \u001b[39mexcept\u001b[39;00m googleapiclient\u001b[39m.\u001b[39merrors\u001b[39m.\u001b[39mHttpError \u001b[39mas\u001b[39;00m e:\n\u001b[1;32m--> 330\u001b[0m   \u001b[39mraise\u001b[39;00m _translate_cloud_exception(e)\n",
      "\u001b[1;31mEEException\u001b[0m: Google Earth Engine API has not been used in project 272621783927 before or it is disabled. Enable it by visiting https://console.developers.google.com/apis/api/earthengine.googleapis.com/overview?project=272621783927 then retry. If you enabled this API recently, wait a few minutes for the action to propagate to our systems and retry."
     ]
    }
   ],
   "source": [
    "#Initialize the library.\n",
    "ee.Initialize()"
   ]
  }
 ],
 "metadata": {
  "kernelspec": {
   "display_name": "Python 3.9.7 64-bit",
   "language": "python",
   "name": "python3"
  },
  "language_info": {
   "codemirror_mode": {
    "name": "ipython",
    "version": 3
   },
   "file_extension": ".py",
   "mimetype": "text/x-python",
   "name": "python",
   "nbconvert_exporter": "python",
   "pygments_lexer": "ipython3",
   "version": "3.9.7"
  },
  "orig_nbformat": 4,
  "vscode": {
   "interpreter": {
    "hash": "397704579725e15f5c7cb49fe5f0341eb7531c82d19f2c29d197e8b64ab5776b"
   }
  }
 },
 "nbformat": 4,
 "nbformat_minor": 2
}
